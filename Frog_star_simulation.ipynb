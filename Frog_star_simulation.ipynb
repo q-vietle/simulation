{
  "cells": [
    {
      "cell_type": "markdown",
      "metadata": {
        "id": "view-in-github",
        "colab_type": "text"
      },
      "source": [
        "<a href=\"https://colab.research.google.com/github/q-vietle/simulation/blob/main/Frog_star_simulation.ipynb\" target=\"_parent\"><img src=\"https://colab.research.google.com/assets/colab-badge.svg\" alt=\"Open In Colab\"/></a>"
      ]
    },
    {
      "cell_type": "code",
      "source": [
        "import matplotlib.pyplot as plt\n",
        "import numpy as np\n",
        "import scipy.special\n",
        "import sympy as sp\n",
        "\n",
        "\n",
        "def recursion(m,p,lambda_):\n",
        "\n",
        "    # Define parameters of interest\n",
        "    p_hat = p/(1-p)\n",
        "    V = np.exp(-lambda_*(1-p_hat)/(m-1))\n",
        "    phi = np.exp(-(1-p_hat)/m)\n",
        "\n",
        "    #\n",
        "    U_list = sp.zeros(m,m)\n",
        "\n",
        "    for j in range(m): # j = 1, i.e. m = 2\n",
        "        if j > 0:\n",
        "            for k in range(j+1): # k = 0,1\n",
        "                if k < j:\n",
        "                    U_list[j,k] = scipy.special.binom(j,k)*(phi*V**(k+1))**(j-k)*U_list[k,k]\n",
        "\n",
        "                elif k == j:\n",
        "                    g = U_list[k,:]*sp.ones(m,1)\n",
        "                    U_list[j,k] = 1 - np.array(g)[0][0]\n",
        "\n",
        "        if j == 0:\n",
        "            U_list[0,0] = 1\n",
        "\n",
        "    return U_list[-1,:]\n",
        "for m in range(2,10):\n",
        "  print(recursion(m,25/100,5))"
      ],
      "metadata": {
        "colab": {
          "base_uri": "https://localhost:8080/"
        },
        "id": "TzWnEYVVyFJz",
        "outputId": "fe45665a-cb74-40cb-f681-d59ed82d2503"
      },
      "execution_count": null,
      "outputs": [
        {
          "output_type": "stream",
          "name": "stdout",
          "text": [
            "Matrix([[0.0255615332065074, 0.974438466793493]])\n",
            "Matrix([[0.0228734649112389, 0.0484905226209126, 0.928636012467849]])\n",
            "Matrix([[0.0216373707194931, 0.0182096351898311, 0.0715687845591181, 0.888584209531558]])\n",
            "Matrix([[0.0209280133319916, 0.0111948199882208, 0.0201419073219320, 0.0941616460648397, 0.853573613293016]])\n",
            "Matrix([[0.0204680757143505, 0.00836697155921280, 0.00948279075883566, 0.0239232366819741, 0.115908002582144, 0.821850922703483]])\n",
            "Matrix([[0.0201457505275776, 0.00689222899644053, 0.00575890086241676, 0.00960269129395618, 0.0286961429986230, 0.136586102942053, 0.792318182378933]])\n",
            "Matrix([[0.0199073420777337, 0.00600119851824471, 0.00404020147319699, 0.00501379823059958, 0.0104703243773623, 0.0341483806540400, 0.156064422426710, 0.764354332242113]])\n",
            "Matrix([[0.0197238655753690, 0.00540946209477213, 0.00310014791157821, 0.00308476384003009, 0.00490626360393710, 0.0117800883492774, 0.0401100375580322, 0.174273796268208, 0.737611574798796]])\n"
          ]
        }
      ]
    },
    {
      "cell_type": "code",
      "source": [
        "\n",
        "\n",
        "import numpy as np\n",
        "import scipy.special\n",
        "import mpmath\n",
        "mpmath.mp.dps = 50\n",
        "\n",
        "def P(m, p, lambda_):\n",
        "    p_hat = p / (1 - p)\n",
        "    V = np.exp(-lambda_ * (1 - p_hat) / (m - 1))\n",
        "    phi = np.exp(-(1 - p_hat) / m)\n",
        "\n",
        "    U_list = np.zeros((m, m))\n",
        "\n",
        "    U_list[0, 0] = 1\n",
        "\n",
        "    for j in range(1, m):\n",
        "        for k in range(j):\n",
        "            U_list[j, k] = scipy.special.binom(j, k) * (phi * V**(k + 1))**(j - k) * U_list[k, k]\n",
        "\n",
        "        g = U_list[j, :j]\n",
        "        U_list[j, j] = 1 - np.sum(g)\n",
        "\n",
        "    return U_list[-1, :]\n",
        "for m in range(2,10):\n",
        "  print(P(m,25/100,5))\n",
        "\n",
        "def f(m,p,lambda_):\n",
        "\n",
        "    p_til = p*(m-1)/(m-(m+1)*p)\n",
        "    p_hat = p/(1-p)\n",
        "    sum = 0\n",
        "\n",
        "    for i in range(len(P(m,p,lambda_))):\n",
        "        sum += np.exp((1-p_hat*(1+i))*lambda_)*P(m,p,lambda_)[i]\n",
        "    return np.exp(-p_til)*sum"
      ],
      "metadata": {
        "colab": {
          "base_uri": "https://localhost:8080/"
        },
        "id": "HVPeS-3DBgMb",
        "outputId": "3dbae886-0555-4699-ef7b-4826938fe7eb"
      },
      "execution_count": null,
      "outputs": [
        {
          "output_type": "stream",
          "name": "stdout",
          "text": [
            "[0.02556153 0.97443847]\n",
            "[0.02287346 0.04849052 0.92863601]\n",
            "[0.02163737 0.01820964 0.07156878 0.88858421]\n",
            "[0.02092801 0.01119482 0.02014191 0.09416165 0.85357361]\n",
            "[0.02046808 0.00836697 0.00948279 0.02392324 0.115908   0.82185092]\n",
            "[0.02014575 0.00689223 0.0057589  0.00960269 0.02869614 0.1365861\n",
            " 0.79231818]\n",
            "[0.01990734 0.0060012  0.0040402  0.0050138  0.01047032 0.03414838\n",
            " 0.15606442 0.76435433]\n",
            "[0.01972387 0.00540946 0.00310015 0.00308476 0.00490626 0.01178009\n",
            " 0.04011004 0.1742738  0.73761157]\n"
          ]
        }
      ]
    },
    {
      "cell_type": "code",
      "source": [
        "m = 100\n",
        "p = 0.18\n",
        "\n",
        "\n",
        "lambda_vals = np.arange(0,2,0.05)\n",
        "\n",
        "f_vals = [f(m, p, lambda_) for lambda_ in lambda_vals]\n",
        "\n",
        "# Plot the function\n",
        "plt.plot(lambda_vals, f_vals)\n",
        "plt.axhline(y=1, color='red', linestyle='--')\n",
        "\n",
        "plt.title(f\"f(lambda) for m={m}, p ={p}\")\n",
        "\n",
        "plt.xlabel('lambda')\n",
        "plt.ylabel('f')\n",
        "plt.show()"
      ],
      "metadata": {
        "colab": {
          "base_uri": "https://localhost:8080/",
          "height": 472
        },
        "id": "RH75hCnD0SnR",
        "outputId": "48707cad-377c-418b-e4ad-967172c89e24"
      },
      "execution_count": null,
      "outputs": [
        {
          "output_type": "display_data",
          "data": {
            "text/plain": [
              "<Figure size 640x480 with 1 Axes>"
            ],
            "image/png": "[encoded data removed]"
          },
          "metadata": {}
        }
      ]
    },
    {
      "cell_type": "code",
      "source": [],
      "metadata": {
        "id": "jsxXXGVosHsU"
      },
      "execution_count": null,
      "outputs": []
    }
  ],
  "metadata": {
    "colab": {
      "provenance": [],
      "authorship_tag": "ABX9TyNZRBcNNKpj2eQdH8YIoVUB",
      "include_colab_link": true
    },
    "kernelspec": {
      "display_name": "Python 3",
      "name": "python3"
    },
    "language_info": {
      "name": "python"
    }
  },
  "nbformat": 4,
  "nbformat_minor": 0
}